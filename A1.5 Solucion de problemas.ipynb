{
 "cells": [
  {
   "cell_type": "markdown",
   "id": "41e76f4c-b885-49ba-b185-bfec2d68e4c2",
   "metadata": {},
   "source": [
    "Con uso de la libreria de `pandas`, importamos la base de datos `A1.5 Calificaciones` para continar con nuestro analisis. A continuacion se muestran los tipos de datos de cada variable dentro de nuestro DataFrame."
   ]
  },
  {
   "cell_type": "code",
   "execution_count": 42,
   "id": "9c0596f2-033b-40ab-a9e9-939d9943889d",
   "metadata": {},
   "outputs": [
    {
     "name": "stdout",
     "output_type": "stream",
     "text": [
      "Tipo de dato de cada variable:\n",
      " Escuela           object\n",
      "Sexo              object\n",
      "Edad               int64\n",
      "HorasDeEstudio     int64\n",
      "Reprobadas         int64\n",
      "Internet          object\n",
      "Faltas             int64\n",
      "G1                 int64\n",
      "G2                 int64\n",
      "G3                 int64\n",
      "dtype: object\n"
     ]
    }
   ],
   "source": [
    "import pandas as pd\n",
    "df = pd.read_csv(\"A1.5 Calificaciones.csv\")\n",
    "\n",
    "print(\"Tipo de dato de cada variable:\\n\",df.dtypes)"
   ]
  },
  {
   "cell_type": "markdown",
   "id": "9656d131-9cdc-4cac-91fd-4803f9c75a8b",
   "metadata": {},
   "source": [
    "En este caso usaremos la funcion `where` que funciona como en SQL, es decir, buscamos que se cumpla algún parámetro, en este caso que el tipo de dato sea `object` (este tipo de dato es como un string donde puede haber tanto letras como números) y guardamos el índice de las variables con este tipo de dato. Después, con un `for` para cada variable, creamos un dummy que simule las opciones dentro de la variable original y lo convertimos en una variable booleana que nos dirá si pertenece o no a una categoría. Como crear una variable para cada opción sería repetitivo, quitamos la primera columna con `drop_first`. Por ejemplo, si tenemos hombre y mujer, borramos la parte de hombre y dejamos mujer; si es 1, es mujer, y si es 0, podemos inferir que es hombre. Luego añadimos estas nuevas variables a nuestro DataFrame y lo imprimimos. Además, a pesar de que la variable HorasDeEstudio es de tipo entero, esta representa una clasificación entre categorías, es decir, es una variable de tipo cualitativo, por lo que también debe separarse. De esta forma transformamos todas las variables categóricas para que los nuevos datos sean útiles en un modelo de regresión lineal múltiple. Se debe prestar especial atención a las variables que, aunque parecen cuantitativas (contienen números), en realidad son cualitativas (los números representan una clase). Finalmente, se imprimen las primeras 5 observaciones de la base de datos modificada para demostrar que las variables cualitativas desaparecieron y fueron reemplazadas por variables adecuadas."
   ]
  },
  {
   "cell_type": "code",
   "execution_count": 43,
   "id": "ec1039e3-a227-4f58-9f75-1614d2091658",
   "metadata": {},
   "outputs": [
    {
     "data": {
      "text/html": [
       "<div>\n",
       "<style scoped>\n",
       "    .dataframe tbody tr th:only-of-type {\n",
       "        vertical-align: middle;\n",
       "    }\n",
       "\n",
       "    .dataframe tbody tr th {\n",
       "        vertical-align: top;\n",
       "    }\n",
       "\n",
       "    .dataframe thead th {\n",
       "        text-align: right;\n",
       "    }\n",
       "</style>\n",
       "<table border=\"1\" class=\"dataframe\">\n",
       "  <thead>\n",
       "    <tr style=\"text-align: right;\">\n",
       "      <th></th>\n",
       "      <th>Edad</th>\n",
       "      <th>Reprobadas</th>\n",
       "      <th>Faltas</th>\n",
       "      <th>G1</th>\n",
       "      <th>G2</th>\n",
       "      <th>G3</th>\n",
       "      <th>Escuela_MS</th>\n",
       "      <th>Sexo_M</th>\n",
       "      <th>Internet_yes</th>\n",
       "      <th>2</th>\n",
       "      <th>3</th>\n",
       "      <th>4</th>\n",
       "    </tr>\n",
       "  </thead>\n",
       "  <tbody>\n",
       "    <tr>\n",
       "      <th>0</th>\n",
       "      <td>18</td>\n",
       "      <td>0</td>\n",
       "      <td>6</td>\n",
       "      <td>5</td>\n",
       "      <td>6</td>\n",
       "      <td>6</td>\n",
       "      <td>False</td>\n",
       "      <td>False</td>\n",
       "      <td>False</td>\n",
       "      <td>True</td>\n",
       "      <td>False</td>\n",
       "      <td>False</td>\n",
       "    </tr>\n",
       "    <tr>\n",
       "      <th>1</th>\n",
       "      <td>17</td>\n",
       "      <td>0</td>\n",
       "      <td>4</td>\n",
       "      <td>5</td>\n",
       "      <td>5</td>\n",
       "      <td>6</td>\n",
       "      <td>False</td>\n",
       "      <td>False</td>\n",
       "      <td>True</td>\n",
       "      <td>True</td>\n",
       "      <td>False</td>\n",
       "      <td>False</td>\n",
       "    </tr>\n",
       "    <tr>\n",
       "      <th>2</th>\n",
       "      <td>15</td>\n",
       "      <td>3</td>\n",
       "      <td>10</td>\n",
       "      <td>7</td>\n",
       "      <td>8</td>\n",
       "      <td>10</td>\n",
       "      <td>False</td>\n",
       "      <td>False</td>\n",
       "      <td>True</td>\n",
       "      <td>True</td>\n",
       "      <td>False</td>\n",
       "      <td>False</td>\n",
       "    </tr>\n",
       "    <tr>\n",
       "      <th>3</th>\n",
       "      <td>15</td>\n",
       "      <td>0</td>\n",
       "      <td>2</td>\n",
       "      <td>15</td>\n",
       "      <td>14</td>\n",
       "      <td>15</td>\n",
       "      <td>False</td>\n",
       "      <td>False</td>\n",
       "      <td>True</td>\n",
       "      <td>False</td>\n",
       "      <td>True</td>\n",
       "      <td>False</td>\n",
       "    </tr>\n",
       "    <tr>\n",
       "      <th>4</th>\n",
       "      <td>16</td>\n",
       "      <td>0</td>\n",
       "      <td>4</td>\n",
       "      <td>6</td>\n",
       "      <td>10</td>\n",
       "      <td>10</td>\n",
       "      <td>False</td>\n",
       "      <td>False</td>\n",
       "      <td>False</td>\n",
       "      <td>True</td>\n",
       "      <td>False</td>\n",
       "      <td>False</td>\n",
       "    </tr>\n",
       "  </tbody>\n",
       "</table>\n",
       "</div>"
      ],
      "text/plain": [
       "   Edad  Reprobadas  Faltas  G1  G2  G3  Escuela_MS  Sexo_M  Internet_yes  \\\n",
       "0    18           0       6   5   6   6       False   False         False   \n",
       "1    17           0       4   5   5   6       False   False          True   \n",
       "2    15           3      10   7   8  10       False   False          True   \n",
       "3    15           0       2  15  14  15       False   False          True   \n",
       "4    16           0       4   6  10  10       False   False         False   \n",
       "\n",
       "       2      3      4  \n",
       "0   True  False  False  \n",
       "1   True  False  False  \n",
       "2   True  False  False  \n",
       "3  False   True  False  \n",
       "4   True  False  False  "
      ]
     },
     "execution_count": 43,
     "metadata": {},
     "output_type": "execute_result"
    }
   ],
   "source": [
    "# Where funciona como en SQL digamos, donde buscamos que cumpla con algun parametro, este caso, que el tipo de dato sea object \n",
    "# (este tipo de dato es como un string donde puede haber tanto letras como numeros) y guardamos el indice de las variables con este tipo de dato\n",
    "# despues con un for para cada variable, creamos un `dummy` que simule las opciones dentro de la variable que teniamos y ahora lo volvemos una variable\n",
    "# booleana que nos dira si es o no alguna categoria, como crear una variable para cada opcioon seria repetitivo, quitamos la primera columna con el \n",
    "# `drop_first`. Digamos, si tengo hombre y muejer, borro la parte de hombre y dejamos mujer, si es 1, es mujer evidentemente, pero si es 0, podemos\n",
    "# inferir que es hombre. Despues añaadimos estas nuevas variables a nuestro Dataframe y lo imprimimos.\n",
    "# Tambien, a pesar de que la variable HorasDeEstudio es de tipo entero, esta representa una clasificacion entre categorias, o sea, es una variable\n",
    "# de tipo cualitativo, por lo que tambien debe separarse\n",
    "\n",
    "import numpy as np\n",
    "\n",
    "ind = np.where(df.dtypes==object)\n",
    "\n",
    "for i in ind:\n",
    "    dummy = pd.get_dummies(df.iloc[:,i], drop_first = True)\n",
    "    df = pd.concat([df, dummy], axis = 1)\n",
    "\n",
    "df = df.drop(labels = df.columns[ind], axis = 1)\n",
    "\n",
    "dummyEstudio = pd.get_dummies(df.HorasDeEstudio, drop_first = True)\n",
    "\n",
    "df = pd.concat([df, dummyEstudio], axis = 1)\n",
    "\n",
    "df = df.drop(\"HorasDeEstudio\", axis = 1)\n",
    "\n",
    "df.head()"
   ]
  },
  {
   "cell_type": "markdown",
   "id": "c497ae32-983a-483a-9905-c42589c13d4e",
   "metadata": {},
   "source": [
    "Primero se calcula el cuartil uno y el cuartil tres de la variable **Faltas** con `df.Faltas.quantile(0.25)` y `df.Faltas.quantile(0.75)`. A partir de estos valores se obtiene el rango intercuartil (IQR) como la diferencia entre Q3 y Q1. Luego, se determinan los límites inferior y superior utilizando la fórmula `q1 - (3 * iqr)` para el límite inferior y `q1 + (3 * iqr)` para el límite superior. Con `where` se identifican los índices de las observaciones que están fuera de estos límites (outliers). Posteriormente, se convierte todo el DataFrame a tipo entero con `df.astype(int)`, ya que para la función del heatmap los valores booleanos no eran leídos como 0 y 1 sino como True y False, por lo que se decidió cambiar todo a enteros de una vez. Finalmente, se imprimen en consola las filas correspondientes a los outliers y se muestran los tipos de datos de cada variable.\n"
   ]
  },
  {
   "cell_type": "code",
   "execution_count": 44,
   "id": "14951c96-2fd6-409f-8e49-c0d8658ca521",
   "metadata": {},
   "outputs": [
    {
     "name": "stdout",
     "output_type": "stream",
     "text": [
      "     Edad  Reprobadas  Faltas  G1  G2  G3  Escuela_MS  Sexo_M  Internet_yes  \\\n",
      "40     16           1      25   7  10  11           0       0             1   \n",
      "74     16           0      54  11  12  11           0       0             1   \n",
      "103    15           0      26   7   6   6           0       0             1   \n",
      "183    17           0      56   9   9   8           0       0             1   \n",
      "198    17           1      24  18  18  18           0       0             1   \n",
      "205    17           1      28  10   9   9           0       0             1   \n",
      "276    18           0      75  10   9   9           0       0             1   \n",
      "280    17           0      30   8   8   8           0       1             1   \n",
      "307    19           1      38   8   9   8           0       1             1   \n",
      "315    19           1      40  13  11  11           0       0             1   \n",
      "\n",
      "     2  3  4  \n",
      "40   1  0  0  \n",
      "74   1  0  0  \n",
      "103  1  0  0  \n",
      "183  1  0  0  \n",
      "198  0  0  0  \n",
      "205  0  1  0  \n",
      "276  1  0  0  \n",
      "280  0  0  0  \n",
      "307  0  0  0  \n",
      "315  0  1  0  \n"
     ]
    }
   ],
   "source": [
    "# Cuartil uno\n",
    "q1 = df.Faltas.quantile(0.25)\n",
    "\n",
    "# Cuartil tres\n",
    "q3 = df.Faltas.quantile(0.75)\n",
    "\n",
    "# Rango intercuartil\n",
    "iqr = q3 - q1\n",
    "\n",
    "# Límite inferior\n",
    "li = q1 - (3*iqr)\n",
    "\n",
    "# Límite superior\n",
    "ls = q1 + (3*iqr)\n",
    "\n",
    "# Observaciones fuera de cualquiera de los dos límites\n",
    "out=np.where((df.Faltas<=li) | (df.Faltas>=ls))[0]\n",
    "\n",
    "# Imprimir información de outliers\n",
    "# AQUI TENGO DUDA POR QUE LA FUNCION PARA EL HEATMAP NO LEE LOS BOOL COMO 0 Y 1 SI NO COMO TRUE Y FALSE, ASI QUE \n",
    "# HIZO FALTA CAMBIAR TODO A INT DE UNA, QUE AL CABO YA ESTABA TODO EN INT\n",
    "df = df.astype(int)\n",
    "\n",
    "print(df.iloc[out,:])\n"
   ]
  },
  {
   "cell_type": "markdown",
   "id": "2c3d717a-aa18-455a-850b-89865fd7aa2d",
   "metadata": {},
   "source": [
    "Para la variable de `Faltas`, vemos que hay valores atipicos al usar el metodo de Tukey con k=3. Estos datos no necesariamente son errores, pero si son datos muy alejados de las demas muestras. En lugar de eliminar estas observaciones, decidimos reemplazarlas por la mediana, ya que este valor representa mejor el comportamiento central de la mayoría de los estudiantes y no se ve afectado por valores extremos, a diferencia de la media, por ejemplo. Ahora, en lugar de tener valores tan altos, simplemente tendremos el valor que se encuentre mas en el centro de todos los datos posibles."
   ]
  },
  {
   "cell_type": "code",
   "execution_count": 45,
   "id": "d037dfca-17e5-4ee5-b5f5-b273f0a0794a",
   "metadata": {},
   "outputs": [
    {
     "name": "stdout",
     "output_type": "stream",
     "text": [
      "     Edad  Reprobadas  Faltas  G1  G2  G3  Escuela_MS  Sexo_M  Internet_yes  \\\n",
      "40     16           1       4   7  10  11           0       0             1   \n",
      "74     16           0       4  11  12  11           0       0             1   \n",
      "103    15           0       4   7   6   6           0       0             1   \n",
      "183    17           0       4   9   9   8           0       0             1   \n",
      "198    17           1       4  18  18  18           0       0             1   \n",
      "205    17           1       4  10   9   9           0       0             1   \n",
      "276    18           0       4  10   9   9           0       0             1   \n",
      "280    17           0       4   8   8   8           0       1             1   \n",
      "307    19           1       4   8   9   8           0       1             1   \n",
      "315    19           1       4  13  11  11           0       0             1   \n",
      "\n",
      "     2  3  4  \n",
      "40   1  0  0  \n",
      "74   1  0  0  \n",
      "103  1  0  0  \n",
      "183  1  0  0  \n",
      "198  0  0  0  \n",
      "205  0  1  0  \n",
      "276  1  0  0  \n",
      "280  0  0  0  \n",
      "307  0  0  0  \n",
      "315  0  1  0  \n"
     ]
    }
   ],
   "source": [
    "mediana = df['Faltas'].median()\n",
    "df.loc[out, 'Faltas'] = mediana\n",
    "print(df.iloc[out, :])"
   ]
  },
  {
   "cell_type": "markdown",
   "id": "642f4168-9787-4176-bf2f-1586027951ea",
   "metadata": {},
   "source": [
    "Ahora se genera una matriz de correlaciones para encontrar potenciales problemas de colinealidad. Genera un heatmap para visualizar de forma más sencilla los resultados. Determina si es necesario eliminar una o múltiples variables, explicando tu razonamiento en una línea de texto. Realiza la acción descrita en caso de ser necesario. Posteriormente se llena la diagonal donde se compara la variable consigo misma , lo que nos daria un 1, asi que lo llenamos con ceros con y se obtienen los índices `(i, j)` de la posición del valor máximo. Se imprimen los índices y el valor de la correlación máxima. Luego se importa la función heatmap de la librería seaborn mediante `from seaborn import heatmap` y finalmente se grafica el heatmap con `heatmap(cor)`.\n"
   ]
  },
  {
   "cell_type": "code",
   "execution_count": 49,
   "id": "3c6e8cc0-496a-4db0-b7db-06a6e83ceff0",
   "metadata": {},
   "outputs": [
    {
     "name": "stdout",
     "output_type": "stream",
     "text": [
      "Indices: 4 5\n",
      "Valor de correlacion: 0.904867989269301\n"
     ]
    },
    {
     "data": {
      "text/plain": [
       "<Axes: >"
      ]
     },
     "execution_count": 49,
     "metadata": {},
     "output_type": "execute_result"
    },
    {
     "data": {
      "image/png": "[encoded data removed]",
      "text/plain": [
       "<Figure size 640x480 with 2 Axes>"
      ]
     },
     "metadata": {},
     "output_type": "display_data"
    }
   ],
   "source": [
    "from seaborn import heatmap\n",
    "\n",
    "cor =  abs(np.corrcoef(df, rowvar = False))\n",
    "\n",
    "np.fill_diagonal(cor,0)\n",
    "\n",
    "i,j=np.unravel_index(cor.argmax(),cor.shape)\n",
    "\n",
    "print(\"Indices:\",i,j)\n",
    "\n",
    "print(\"Valor de correlacion:\",cor[i,j])\n",
    "\n",
    "heatmap(cor)"
   ]
  },
  {
   "cell_type": "markdown",
   "id": "6f4d73b8-7e9f-4780-b7c6-106ced57522c",
   "metadata": {},
   "source": [
    "Ahora se incluye una nueva variable que sera una interaccion entre las variables de Internet_yes y Reprobadas, generando la nueva variable “Internet_Reprobadas”, que multiplica ambas columnas. Esto para ver si en realidad el hecho de tener internet y el número de materias reprobadas pueden influir juntos en el rendimiento académico. Y por ultimo mostramos las observaciones con esta nueva variable."
   ]
  },
  {
   "cell_type": "code",
   "execution_count": 47,
   "id": "737c86de-aa3a-471c-bd11-a03ffc27d7a5",
   "metadata": {},
   "outputs": [
    {
     "name": "stdout",
     "output_type": "stream",
     "text": [
      "     Edad  Reprobadas  Faltas  G1  G2  G3  Escuela_MS  Sexo_M  Internet_yes  \\\n",
      "0      18           0       6   5   6   6           0       0             0   \n",
      "1      17           0       4   5   5   6           0       0             1   \n",
      "2      15           3      10   7   8  10           0       0             1   \n",
      "3      15           0       2  15  14  15           0       0             1   \n",
      "4      16           0       4   6  10  10           0       0             0   \n",
      "..    ...         ...     ...  ..  ..  ..         ...     ...           ...   \n",
      "390    20           2      11   9   9   9           1       1             0   \n",
      "391    17           0       3  14  16  16           1       1             1   \n",
      "392    21           3       3  10   8   7           1       1             0   \n",
      "393    18           0       0  11  12  10           1       1             1   \n",
      "394    19           0       5   8   9   9           1       1             1   \n",
      "\n",
      "     2  3  4  Internet_Reprobadas  \n",
      "0    1  0  0                    0  \n",
      "1    1  0  0                    0  \n",
      "2    1  0  0                    3  \n",
      "3    0  1  0                    0  \n",
      "4    1  0  0                    0  \n",
      "..  .. .. ..                  ...  \n",
      "390  1  0  0                    0  \n",
      "391  0  0  0                    0  \n",
      "392  0  0  0                    0  \n",
      "393  0  0  0                    0  \n",
      "394  0  0  0                    0  \n",
      "\n",
      "[395 rows x 13 columns]\n"
     ]
    }
   ],
   "source": [
    "df['Internet_Reprobadas'] = df['Internet_yes'] * df['Reprobadas']\n",
    "\n",
    "print(df)"
   ]
  },
  {
   "cell_type": "markdown",
   "id": "7ce919f6-3837-4423-9e25-12b0b14c3fc5",
   "metadata": {},
   "source": [
    "Ahora se entrena un modelo de regresión lineal múltiple utilizando un subconjunto del 80% de los datos para entrenamiento y el 20% restante para prueba. Se separan las variables predictoras (X) de la variable de respuesta (G3), y se añade una constante para incluir el término independiente en el modelo. Se utiliza la función OLS de la librería statsmodels para ajustar el modelo y se imprime un resumen con las estadísticas obtenidas. Despues se hace la predicción de las calificaciones finales en los datos de prueba y se grafica para comparar los valores reales con los estimados por el modelo. La línea roja sirve como referencia donde el ajuste estimado por el modelo es exactamente igual al real. Donde a simplevista podemos ver que los datos estimados tienen cierto apego a los datos reales, ademas, junto al valor de la R cuadrada ajustada, podemos ver que el modelo se ajusta con un 82% de confiabilidad. Sin embargo, viendo los valores de p, podemos ver que son pocas las variables que son realmente significativas donde se peuden observar  la de `Edad`, `Faltas`y `G2` al ser las unicas que tienen un valor igual o menor a 0.05."
   ]
  },
  {
   "cell_type": "code",
   "execution_count": 48,
   "id": "115ae34c-49d9-4877-b78e-1127ea928de4",
   "metadata": {},
   "outputs": [
    {
     "name": "stdout",
     "output_type": "stream",
     "text": [
      "Train: (316, 13)\n",
      "Test: (79, 13)\n",
      "                            OLS Regression Results                            \n",
      "==============================================================================\n",
      "Dep. Variable:                     G3   R-squared:                       0.832\n",
      "Model:                            OLS   Adj. R-squared:                  0.825\n",
      "Method:                 Least Squares   F-statistic:                     125.0\n",
      "Date:                Wed, 27 Aug 2025   Prob (F-statistic):          1.34e-109\n",
      "Time:                        19:10:08   Log-Likelihood:                -649.06\n",
      "No. Observations:                 316   AIC:                             1324.\n",
      "Df Residuals:                     303   BIC:                             1373.\n",
      "Df Model:                          12                                         \n",
      "Covariance Type:            nonrobust                                         \n",
      "=======================================================================================\n",
      "                          coef    std err          t      P>|t|      [0.025      0.975]\n",
      "---------------------------------------------------------------------------------------\n",
      "const                   1.7278      1.696      1.019      0.309      -1.610       5.065\n",
      "Edad                   -0.2162      0.100     -2.173      0.031      -0.412      -0.020\n",
      "Reprobadas              0.0434      0.332      0.131      0.896      -0.610       0.697\n",
      "Faltas                  0.0947      0.021      4.442      0.000       0.053       0.137\n",
      "G1                      0.1641      0.066      2.480      0.014       0.034       0.294\n",
      "G2                      0.9511      0.058     16.530      0.000       0.838       1.064\n",
      "Escuela_MS              0.3485      0.376      0.927      0.355      -0.392       1.089\n",
      "Sexo_M                  0.2564      0.238      1.078      0.282      -0.212       0.724\n",
      "Internet_yes           -0.0569      0.333     -0.171      0.865      -0.713       0.599\n",
      "2                      -0.1748      0.275     -0.635      0.526      -0.716       0.367\n",
      "3                       0.0988      0.378      0.261      0.794      -0.645       0.843\n",
      "4                      -0.9228      0.468     -1.972      0.050      -1.844      -0.002\n",
      "Internet_Reprobadas    -0.3874      0.367     -1.054      0.293      -1.110       0.336\n",
      "==============================================================================\n",
      "Omnibus:                      155.472   Durbin-Watson:                   2.005\n",
      "Prob(Omnibus):                  0.000   Jarque-Bera (JB):              723.705\n",
      "Skew:                          -2.102   Prob(JB):                    7.07e-158\n",
      "Kurtosis:                       9.106   Cond. No.                         366.\n",
      "==============================================================================\n",
      "\n",
      "Notes:\n",
      "[1] Standard Errors assume that the covariance matrix of the errors is correctly specified.\n"
     ]
    },
    {
     "data": {
      "image/png": "[encoded data removed]",
      "text/plain": [
       "<Figure size 640x480 with 1 Axes>"
      ]
     },
     "metadata": {},
     "output_type": "display_data"
    }
   ],
   "source": [
    "import statsmodels.api as sm\n",
    "import matplotlib.pyplot as plt\n",
    "\n",
    "train = df.sample(frac=0.8, random_state=91)\n",
    "test = df.drop(train.index)                 \n",
    "\n",
    "print(\"Train:\",train.shape)\n",
    "print(\"Test:\",test.shape)\n",
    "\n",
    "X_train = train.drop('G3', axis = 1)\n",
    "y_train = train.G3\n",
    "\n",
    "X_test = test.drop('G3', axis = 1) \n",
    "y_test = test.G3\n",
    "\n",
    "X_train = sm.add_constant(X_train)\n",
    "X_test = sm.add_constant(X_test)\n",
    "\n",
    "modelo = sm.OLS(y_train, X_train).fit()\n",
    "\n",
    "print(modelo.summary())\n",
    "\n",
    "y_pred = modelo.predict(X_test)\n",
    "\n",
    "plt.scatter(y_test, y_pred)\n",
    "plt.xlabel('Calificaciones Reales')\n",
    "plt.ylabel('Calificaciones Estimadas')\n",
    "plt.title('Real vs Estimado (Datos de prueba)')\n",
    "plt.plot([y_test.min(), y_test.max()], [y_test.min(), y_test.max()], 'r--')  # línea de referencia\n",
    "plt.show()"
   ]
  }
 ],
 "metadata": {
  "kernelspec": {
   "display_name": "Python [conda env:base] *",
   "language": "python",
   "name": "conda-base-py"
  },
  "language_info": {
   "codemirror_mode": {
    "name": "ipython",
    "version": 3
   },
   "file_extension": ".py",
   "mimetype": "text/x-python",
   "name": "python",
   "nbconvert_exporter": "python",
   "pygments_lexer": "ipython3",
   "version": "3.13.5"
  }
 },
 "nbformat": 4,
 "nbformat_minor": 5
}
